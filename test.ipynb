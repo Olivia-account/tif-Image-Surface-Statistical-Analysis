{
 "cells": [
  {
   "cell_type": "code",
   "execution_count": 23,
   "metadata": {},
   "outputs": [],
   "source": [
    "import numpy as np\n",
    "from PIL import Image\n",
    "\n",
    "def calculate_rms_height(data):\n",
    "    N = len(data)\n",
    "    mean_height = np.mean(data)\n",
    "    squared_diff = np.sum(np.square(data)) - N * np.square(mean_height)\n",
    "    rms_height = np.sqrt(squared_diff / (N - 1))\n",
    "    return rms_height\n",
    "\n",
    "def normalized_autocorrelation(data, j):\n",
    "    N = len(data)\n",
    "    \n",
    "    numerator = np.sum(data[:N+1-j] * data[j-1:])\n",
    "    denominator = np.sum(np.square(data))\n",
    "    \n",
    "    rho = numerator / denominator\n",
    "    \n",
    "    return rho\n",
    "\n",
    "def remove_zeros(data):\n",
    "    data_copy = data.copy()  # Make a copy to avoid read-only issues\n",
    "    non_zero_values = data_copy[data_copy != 0]\n",
    "    mean_non_zero = np.mean(non_zero_values)\n",
    "    data_copy[data_copy == 0] = mean_non_zero\n",
    "    return data_copy\n",
    "\n",
    "def find_correlation_length(data):\n",
    "    j = 1\n",
    "    target_rho = 1/np.e  # 1/e for normalization\n",
    "    \n",
    "    while True:\n",
    "        rho = normalized_autocorrelation(data, j)\n",
    "        \n",
    "        if rho <= target_rho:\n",
    "            break\n",
    "        \n",
    "        j += 1\n",
    "    \n",
    "    L = (j - 1) * 0.005\n",
    "    return j, L\n"
   ]
  },
  {
   "cell_type": "code",
   "execution_count": 24,
   "metadata": {},
   "outputs": [
    {
     "name": "stdout",
     "output_type": "stream",
     "text": [
      "Optimal j: 592\n",
      "Correlation Length (L): 2.955\n",
      "RMS Height: 73.23684484587248\n"
     ]
    }
   ],
   "source": [
    "image = Image.open('data/2204.tif')\n",
    "data = np.asarray(image)\n",
    "\n",
    "# Remove zeros\n",
    "data = remove_zeros(data)\n",
    "\n",
    "# Find correlation length\n",
    "j, L = find_correlation_length(data)\n",
    "rms_height = calculate_rms_height(data)\n",
    "\n",
    "print(\"Optimal j:\", j)\n",
    "print(\"Correlation Length (L):\", L)\n",
    "print(\"RMS Height:\", rms_height)"
   ]
  },
  {
   "cell_type": "code",
   "execution_count": 25,
   "metadata": {},
   "outputs": [
    {
     "name": "stdout",
     "output_type": "stream",
     "text": [
      "Optimal j: 588\n",
      "Correlation Length (L): 2.935\n",
      "RMS Height: 79.18843941662078\n"
     ]
    }
   ],
   "source": [
    "image = Image.open('data/3804.tif')\n",
    "data = np.asarray(image)\n",
    "\n",
    "# Remove zeros\n",
    "data = remove_zeros(data)\n",
    "\n",
    "# Find correlation length\n",
    "j, L = find_correlation_length(data)\n",
    "rms_height = calculate_rms_height(data)\n",
    "\n",
    "print(\"Optimal j:\", j)\n",
    "print(\"Correlation Length (L):\", L)\n",
    "print(\"RMS Height:\", rms_height)\n"
   ]
  },
  {
   "cell_type": "code",
   "execution_count": 26,
   "metadata": {},
   "outputs": [
    {
     "name": "stdout",
     "output_type": "stream",
     "text": [
      "Optimal j: 587\n",
      "Correlation Length (L): 2.93\n",
      "RMS Height: 74.58861972539363\n"
     ]
    }
   ],
   "source": [
    "image = Image.open('data/5404.tif')\n",
    "data = np.asarray(image)\n",
    "\n",
    "# Remove zeros\n",
    "data = remove_zeros(data)\n",
    "\n",
    "# Find correlation length\n",
    "j, L = find_correlation_length(data)\n",
    "rms_height = calculate_rms_height(data)\n",
    "\n",
    "print(\"Optimal j:\", j)\n",
    "print(\"Correlation Length (L):\", L)\n",
    "print(\"RMS Height:\", rms_height)"
   ]
  },
  {
   "cell_type": "code",
   "execution_count": 27,
   "metadata": {},
   "outputs": [
    {
     "name": "stdout",
     "output_type": "stream",
     "text": [
      "Optimal j: 590\n",
      "Correlation Length (L): 2.945\n",
      "RMS Height: 58.761937479211205\n"
     ]
    }
   ],
   "source": [
    "image = Image.open('data/7004.tif')\n",
    "data = np.asarray(image)\n",
    "\n",
    "# Remove zeros\n",
    "data = remove_zeros(data)\n",
    "\n",
    "# Find correlation length\n",
    "j, L = find_correlation_length(data)\n",
    "rms_height = calculate_rms_height(data)\n",
    "\n",
    "print(\"Optimal j:\", j)\n",
    "print(\"Correlation Length (L):\", L)\n",
    "print(\"RMS Height:\", rms_height)"
   ]
  },
  {
   "cell_type": "code",
   "execution_count": 28,
   "metadata": {},
   "outputs": [
    {
     "name": "stdout",
     "output_type": "stream",
     "text": [
      "Optimal j: 592\n",
      "Correlation Length (L): 2.955\n",
      "RMS Height: 57.14125325230312\n"
     ]
    }
   ],
   "source": [
    "image = Image.open('data/0604.tif')\n",
    "data = np.asarray(image)\n",
    "\n",
    "# Remove zeros\n",
    "data = remove_zeros(data)\n",
    "\n",
    "# Find correlation length\n",
    "j, L = find_correlation_length(data)\n",
    "rms_height = calculate_rms_height(data)\n",
    "\n",
    "print(\"Optimal j:\", j)\n",
    "print(\"Correlation Length (L):\", L)\n",
    "print(\"RMS Height:\", rms_height)"
   ]
  }
 ],
 "metadata": {
  "kernelspec": {
   "display_name": "base",
   "language": "python",
   "name": "python3"
  },
  "language_info": {
   "codemirror_mode": {
    "name": "ipython",
    "version": 3
   },
   "file_extension": ".py",
   "mimetype": "text/x-python",
   "name": "python",
   "nbconvert_exporter": "python",
   "pygments_lexer": "ipython3",
   "version": "3.9.12"
  }
 },
 "nbformat": 4,
 "nbformat_minor": 2
}
